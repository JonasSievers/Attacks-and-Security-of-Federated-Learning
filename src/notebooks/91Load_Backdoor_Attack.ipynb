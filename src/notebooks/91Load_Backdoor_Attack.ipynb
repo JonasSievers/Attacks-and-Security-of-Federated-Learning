{
 "cells": [
  {
   "cell_type": "code",
   "execution_count": null,
   "id": "e5f0bc80",
   "metadata": {},
   "outputs": [],
   "source": [
    "import sys\n",
    "sys.path.insert(0, '..')\n",
    "from utils.New_Utils import main, make_cfg"
   ]
  },
  {
   "cell_type": "code",
   "execution_count": null,
   "id": "dcb6b914",
   "metadata": {},
   "outputs": [],
   "source": [
    "# Noise\n",
    "for scale in [0.0, 0.3, 0.6, 0.9]: \n",
    "    print(\"------------------------------------------- Scale: \", scale)\n",
    "    cfg = make_cfg(\n",
    "        columns=\"load\", nr_buildings=20, cluster_size=2, results_dir=\"results3\",\n",
    "        experiment_name=f\"91Load_Backdoor_NoiseScale_{format(scale, '.1f').replace('.', 'p')}_Attack\",\n",
    "        attack_type=\"backdoor\",   # \"poison\" or \"backdoor\"\n",
    "        attack_mode=\"noise\",    # \"noise\" or \"gan\"\n",
    "        scale=scale, local_retraining=False, federated_aggregation=\"sum\", plot=False\n",
    "    )\n",
    "    combined_all, per_hour = main(cfg)"
   ]
  },
  {
   "cell_type": "code",
   "execution_count": null,
   "id": "c2adfb54",
   "metadata": {},
   "outputs": [],
   "source": [
    "# GAN\n",
    "for scale in [0.0, 0.3, 0.6, 0.9]: \n",
    "    print(\"------------------------------------------- Scale: \", scale)\n",
    "    cfg = make_cfg(\n",
    "        columns=\"load\", nr_buildings=20, cluster_size=2, results_dir=\"results3\",\n",
    "        experiment_name=f\"91Load_Backdoor_GanScale_{format(scale, '.1f').replace('.', 'p')}_Attack\",\n",
    "        attack_type=\"backdoor\",   # \"poison\" or \"backdoor\"\n",
    "        attack_mode=\"gan\",    # \"noise\" or \"gan\"\n",
    "        scale=scale, local_retraining=False, federated_aggregation=\"sum\", plot=False\n",
    "    )\n",
    "    combined_all, per_hour = main(cfg)"
   ]
  }
 ],
 "metadata": {
  "kernelspec": {
   "display_name": ".venv",
   "language": "python",
   "name": "python3"
  },
  "language_info": {
   "codemirror_mode": {
    "name": "ipython",
    "version": 3
   },
   "file_extension": ".py",
   "mimetype": "text/x-python",
   "name": "python",
   "nbconvert_exporter": "python",
   "pygments_lexer": "ipython3",
   "version": "3.10.0"
  }
 },
 "nbformat": 4,
 "nbformat_minor": 5
}
