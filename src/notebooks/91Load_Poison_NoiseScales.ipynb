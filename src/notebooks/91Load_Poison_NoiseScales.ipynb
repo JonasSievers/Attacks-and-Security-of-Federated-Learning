{
 "cells": [
  {
   "cell_type": "code",
   "execution_count": 1,
   "id": "e5f0bc80",
   "metadata": {},
   "outputs": [],
   "source": [
    "import sys\n",
    "sys.path.insert(0, '..')\n",
    "from utils.New_Utils import main, make_cfg"
   ]
  },
  {
   "cell_type": "code",
   "execution_count": null,
   "id": "8233ad9b",
   "metadata": {},
   "outputs": [
    {
     "name": "stdout",
     "output_type": "stream",
     "text": [
      "------------------------------------------- Scale:  0.4\n",
      "[Cluster 1] buildings=[6, 7] | attack=poison(mode=noise, distribution=uniform, scale=0.4)\n"
     ]
    }
   ],
   "source": [
    "#for scale in [0.0, 0.2, 0.4, 0.6, 0.8, 1.0]: \n",
    "for scale in [0.4, 0.6, 0.8, 1.0]: \n",
    "    print(\"------------------------------------------- Scale: \", scale)\n",
    "    cfg = make_cfg(\n",
    "        columns=\"load\", nr_buildings=10, cluster_size=2, \n",
    "        experiment_name=f\"91Load_Poison_NoiseScale_{format(scale, '.1f').replace('.', 'p')}\",\n",
    "        attack_type=\"poison\",   # \"poison\" or \"backdoor\"\n",
    "        attack_mode=\"noise\",    # \"noise\" or \"gan\"\n",
    "        scale=scale\n",
    "    )\n",
    "    combined_all, per_hour = main(cfg)"
   ]
  }
 ],
 "metadata": {
  "kernelspec": {
   "display_name": ".venv",
   "language": "python",
   "name": "python3"
  },
  "language_info": {
   "codemirror_mode": {
    "name": "ipython",
    "version": 3
   },
   "file_extension": ".py",
   "mimetype": "text/x-python",
   "name": "python",
   "nbconvert_exporter": "python",
   "pygments_lexer": "ipython3",
   "version": "3.10.0"
  }
 },
 "nbformat": 4,
 "nbformat_minor": 5
}
