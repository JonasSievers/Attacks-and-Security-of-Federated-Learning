{
 "cells": [
  {
   "cell_type": "code",
   "execution_count": 3,
   "id": "e5f0bc80",
   "metadata": {},
   "outputs": [],
   "source": [
    "import sys\n",
    "sys.path.insert(0, '..')\n",
    "from utils.New_Utils import main, make_cfg"
   ]
  },
  {
   "cell_type": "code",
   "execution_count": null,
   "id": "8233ad9b",
   "metadata": {},
   "outputs": [
    {
     "name": "stdout",
     "output_type": "stream",
     "text": [
      "------------------------------------------- Scale:  0.0\n",
      "[Cluster 1] buildings=[6, 7] | attack=poison(mode=gan, epsilon=0.0, lambda_reg=0.0001, steps=50)\n",
      "[Cluster 2] buildings=[1, 8] | attack=poison(mode=gan, epsilon=0.0, lambda_reg=0.0001, steps=50)\n",
      "[Cluster 3] buildings=[4, 3] | attack=poison(mode=gan, epsilon=0.0, lambda_reg=0.0001, steps=50)\n",
      "[Cluster 4] buildings=[5, 10] | attack=poison(mode=gan, epsilon=0.0, lambda_reg=0.0001, steps=50)\n",
      "[Cluster 5] buildings=[2, 9] | attack=poison(mode=gan, epsilon=0.0, lambda_reg=0.0001, steps=50)\n"
     ]
    }
   ],
   "source": [
    "for scale in [0.0, 0.2, 0.4, 0.6, 0.8, 1.0]: \n",
    "    print(\"------------------------------------------- Scale: \", scale)\n",
    "    cfg = make_cfg(\n",
    "        columns=\"pv\", nr_buildings=10, cluster_size=2, \n",
    "        experiment_name=f\"92PV_Poison_GANScale_{format(scale, '.1f').replace('.', 'p')}\",\n",
    "        attack_type=\"poison\",   # \"poison\" or \"backdoor\"\n",
    "        attack_mode=\"gan\",    # \"noise\" or \"gan\"\n",
    "        scale=scale\n",
    "    )\n",
    "    combined_all, per_hour = main(cfg)"
   ]
  }
 ],
 "metadata": {
  "kernelspec": {
   "display_name": ".venv",
   "language": "python",
   "name": "python3"
  },
  "language_info": {
   "codemirror_mode": {
    "name": "ipython",
    "version": 3
   },
   "file_extension": ".py",
   "mimetype": "text/x-python",
   "name": "python",
   "nbconvert_exporter": "python",
   "pygments_lexer": "ipython3",
   "version": "3.10.5"
  }
 },
 "nbformat": 4,
 "nbformat_minor": 5
}
