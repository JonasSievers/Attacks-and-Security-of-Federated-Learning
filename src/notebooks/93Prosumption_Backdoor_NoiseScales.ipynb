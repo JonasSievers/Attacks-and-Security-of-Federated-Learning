{
 "cells": [
  {
   "cell_type": "code",
   "execution_count": null,
   "id": "e5f0bc80",
   "metadata": {},
   "outputs": [
    {
     "ename": "",
     "evalue": "",
     "output_type": "error",
     "traceback": [
      "\u001b[1;31mThe Kernel crashed while executing code in the current cell or a previous cell. \n",
      "\u001b[1;31mPlease review the code in the cell(s) to identify a possible cause of the failure. \n",
      "\u001b[1;31mClick <a href='https://aka.ms/vscodeJupyterKernelCrash'>here</a> for more info. \n",
      "\u001b[1;31mView Jupyter <a href='command:jupyter.viewOutput'>log</a> for further details."
     ]
    }
   ],
   "source": [
    "import sys\n",
    "sys.path.insert(0, '..')\n",
    "from utils.New_Utils import main, make_cfg"
   ]
  },
  {
   "cell_type": "code",
   "execution_count": null,
   "id": "8233ad9b",
   "metadata": {},
   "outputs": [
    {
     "name": "stdout",
     "output_type": "stream",
     "text": [
      "------------------------------------------- Scale:  0.2\n",
      "[Cluster 1] buildings=[6, 7] | attack=backdoor(mode=noise, start=None, steps=4, noise_scale=0.2, activate_in_test=True)\n",
      "[Cluster 2] buildings=[1, 8] | attack=backdoor(mode=noise, start=None, steps=4, noise_scale=0.2, activate_in_test=True)\n",
      "[Cluster 3] buildings=[4, 3] | attack=backdoor(mode=noise, start=None, steps=4, noise_scale=0.2, activate_in_test=True)\n",
      "[Cluster 4] buildings=[5, 10] | attack=backdoor(mode=noise, start=None, steps=4, noise_scale=0.2, activate_in_test=True)\n",
      "[Cluster 5] buildings=[2, 9] | attack=backdoor(mode=noise, start=None, steps=4, noise_scale=0.2, activate_in_test=True)\n",
      "Saved -> results2\\93Prosumption_Backdoor_NoiseScale_0p2_all_results.csv\n",
      "Saved -> results2\\93Prosumption_Backdoor_NoiseScale_0p2_per_hour_results.csv\n",
      "------------------------------------------- Scale:  0.4\n",
      "[Cluster 1] buildings=[6, 7] | attack=backdoor(mode=noise, start=None, steps=4, noise_scale=0.4, activate_in_test=True)\n",
      "[Cluster 2] buildings=[1, 8] | attack=backdoor(mode=noise, start=None, steps=4, noise_scale=0.4, activate_in_test=True)\n",
      "[Cluster 3] buildings=[4, 3] | attack=backdoor(mode=noise, start=None, steps=4, noise_scale=0.4, activate_in_test=True)\n"
     ]
    }
   ],
   "source": [
    "# for scale in [0.0, 0.2, 0.4, 0.6, 0.8, 1.0]: \n",
    "for scale in [0.2, 0.4, 0.6, 0.8, 1.0]: \n",
    "    print(\"------------------------------------------- Scale: \", scale)\n",
    "    cfg = make_cfg(\n",
    "        columns=\"prosumption\", nr_buildings=10, cluster_size=2, \n",
    "        experiment_name=f\"93Prosumption_Backdoor_NoiseScale_{format(scale, '.1f').replace('.', 'p')}\",\n",
    "        attack_type=\"backdoor\",   # \"poison\" or \"backdoor\"\n",
    "        attack_mode=\"noise\",    # \"noise\" or \"gan\"\n",
    "        scale=scale\n",
    "    )\n",
    "    combined_all, per_hour = main(cfg)"
   ]
  }
 ],
 "metadata": {
  "kernelspec": {
   "display_name": ".venv",
   "language": "python",
   "name": "python3"
  },
  "language_info": {
   "codemirror_mode": {
    "name": "ipython",
    "version": 3
   },
   "file_extension": ".py",
   "mimetype": "text/x-python",
   "name": "python",
   "nbconvert_exporter": "python",
   "pygments_lexer": "ipython3",
   "version": "3.10.0"
  }
 },
 "nbformat": 4,
 "nbformat_minor": 5
}
