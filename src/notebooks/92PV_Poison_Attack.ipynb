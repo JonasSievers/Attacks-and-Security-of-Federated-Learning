{
 "cells": [
  {
   "cell_type": "code",
   "execution_count": 1,
   "id": "e5f0bc80",
   "metadata": {},
   "outputs": [],
   "source": [
    "import sys\n",
    "sys.path.insert(0, '..')\n",
    "from utils.New_Utils import main, make_cfg"
   ]
  },
  {
   "cell_type": "code",
   "execution_count": 2,
   "id": "03d02e44",
   "metadata": {},
   "outputs": [
    {
     "name": "stdout",
     "output_type": "stream",
     "text": [
      "------------------------------------------- Scale:  0.0\n",
      "[Cluster 1] buildings=[16, 10] | attack=poison(mode=noise, distribution=uniform, scale=0.0)\n",
      "[Cluster 2] buildings=[15, 8] | attack=poison(mode=noise, distribution=uniform, scale=0.0)\n",
      "[Cluster 3] buildings=[13, 11] | attack=poison(mode=noise, distribution=uniform, scale=0.0)\n",
      "[Cluster 4] buildings=[7, 20] | attack=poison(mode=noise, distribution=uniform, scale=0.0)\n",
      "[Cluster 5] buildings=[4, 1] | attack=poison(mode=noise, distribution=uniform, scale=0.0)\n",
      "[Cluster 6] buildings=[17, 6] | attack=poison(mode=noise, distribution=uniform, scale=0.0)\n",
      "[Cluster 7] buildings=[12, 19] | attack=poison(mode=noise, distribution=uniform, scale=0.0)\n",
      "[Cluster 8] buildings=[3, 5] | attack=poison(mode=noise, distribution=uniform, scale=0.0)\n",
      "[Cluster 9] buildings=[18, 2] | attack=poison(mode=noise, distribution=uniform, scale=0.0)\n",
      "[Cluster 10] buildings=[14, 9] | attack=poison(mode=noise, distribution=uniform, scale=0.0)\n",
      "Saved -> results3\\92PV_Poison_NoiseScale_0p0_Attack_all_results.csv\n",
      "------------------------------------------- Scale:  0.3\n",
      "[Cluster 1] buildings=[16, 10] | attack=poison(mode=noise, distribution=uniform, scale=0.3)\n",
      "[Cluster 2] buildings=[15, 8] | attack=poison(mode=noise, distribution=uniform, scale=0.3)\n",
      "[Cluster 3] buildings=[13, 11] | attack=poison(mode=noise, distribution=uniform, scale=0.3)\n",
      "[Cluster 4] buildings=[7, 20] | attack=poison(mode=noise, distribution=uniform, scale=0.3)\n",
      "[Cluster 5] buildings=[4, 1] | attack=poison(mode=noise, distribution=uniform, scale=0.3)\n",
      "[Cluster 6] buildings=[17, 6] | attack=poison(mode=noise, distribution=uniform, scale=0.3)\n",
      "[Cluster 7] buildings=[12, 19] | attack=poison(mode=noise, distribution=uniform, scale=0.3)\n",
      "[Cluster 8] buildings=[3, 5] | attack=poison(mode=noise, distribution=uniform, scale=0.3)\n",
      "[Cluster 9] buildings=[18, 2] | attack=poison(mode=noise, distribution=uniform, scale=0.3)\n",
      "[Cluster 10] buildings=[14, 9] | attack=poison(mode=noise, distribution=uniform, scale=0.3)\n",
      "Saved -> results3\\92PV_Poison_NoiseScale_0p3_Attack_all_results.csv\n",
      "------------------------------------------- Scale:  0.6\n",
      "[Cluster 1] buildings=[16, 10] | attack=poison(mode=noise, distribution=uniform, scale=0.6)\n",
      "[Cluster 2] buildings=[15, 8] | attack=poison(mode=noise, distribution=uniform, scale=0.6)\n",
      "[Cluster 3] buildings=[13, 11] | attack=poison(mode=noise, distribution=uniform, scale=0.6)\n",
      "[Cluster 4] buildings=[7, 20] | attack=poison(mode=noise, distribution=uniform, scale=0.6)\n",
      "[Cluster 5] buildings=[4, 1] | attack=poison(mode=noise, distribution=uniform, scale=0.6)\n",
      "[Cluster 6] buildings=[17, 6] | attack=poison(mode=noise, distribution=uniform, scale=0.6)\n",
      "[Cluster 7] buildings=[12, 19] | attack=poison(mode=noise, distribution=uniform, scale=0.6)\n",
      "[Cluster 8] buildings=[3, 5] | attack=poison(mode=noise, distribution=uniform, scale=0.6)\n",
      "[Cluster 9] buildings=[18, 2] | attack=poison(mode=noise, distribution=uniform, scale=0.6)\n",
      "[Cluster 10] buildings=[14, 9] | attack=poison(mode=noise, distribution=uniform, scale=0.6)\n",
      "Saved -> results3\\92PV_Poison_NoiseScale_0p6_Attack_all_results.csv\n",
      "------------------------------------------- Scale:  0.9\n",
      "[Cluster 1] buildings=[16, 10] | attack=poison(mode=noise, distribution=uniform, scale=0.9)\n",
      "[Cluster 2] buildings=[15, 8] | attack=poison(mode=noise, distribution=uniform, scale=0.9)\n",
      "[Cluster 3] buildings=[13, 11] | attack=poison(mode=noise, distribution=uniform, scale=0.9)\n",
      "[Cluster 4] buildings=[7, 20] | attack=poison(mode=noise, distribution=uniform, scale=0.9)\n",
      "[Cluster 5] buildings=[4, 1] | attack=poison(mode=noise, distribution=uniform, scale=0.9)\n",
      "[Cluster 6] buildings=[17, 6] | attack=poison(mode=noise, distribution=uniform, scale=0.9)\n",
      "[Cluster 7] buildings=[12, 19] | attack=poison(mode=noise, distribution=uniform, scale=0.9)\n",
      "[Cluster 8] buildings=[3, 5] | attack=poison(mode=noise, distribution=uniform, scale=0.9)\n",
      "[Cluster 9] buildings=[18, 2] | attack=poison(mode=noise, distribution=uniform, scale=0.9)\n",
      "[Cluster 10] buildings=[14, 9] | attack=poison(mode=noise, distribution=uniform, scale=0.9)\n",
      "Saved -> results3\\92PV_Poison_NoiseScale_0p9_Attack_all_results.csv\n"
     ]
    }
   ],
   "source": [
    "# Noise\n",
    "for scale in [0.0, 0.3, 0.6, 0.9]: \n",
    "    print(\"------------------------------------------- Scale: \", scale)\n",
    "    cfg = make_cfg(\n",
    "        columns=\"pv\", nr_buildings=20, cluster_size=2, results_dir=\"results3\",\n",
    "        experiment_name=f\"92PV_Poison_NoiseScale_{format(scale, '.1f').replace('.', 'p')}_Attack\",\n",
    "        attack_type=\"poison\",   # \"poison\" or \"backdoor\"\n",
    "        attack_mode=\"noise\",    # \"noise\" or \"gan\"\n",
    "        scale=scale, local_retraining=False, federated_aggregation=\"sum\", plot=False\n",
    "    )\n",
    "    combined_all, per_hour = main(cfg)"
   ]
  },
  {
   "cell_type": "code",
   "execution_count": 3,
   "id": "6041e4a0",
   "metadata": {},
   "outputs": [
    {
     "name": "stdout",
     "output_type": "stream",
     "text": [
      "------------------------------------------- Scale:  0.0\n",
      "[Cluster 1] buildings=[16, 10] | attack=poison(mode=gan, epsilon=0.0, lambda_reg=0.0001)\n",
      "[Cluster 2] buildings=[15, 8] | attack=poison(mode=gan, epsilon=0.0, lambda_reg=0.0001)\n",
      "[Cluster 3] buildings=[13, 11] | attack=poison(mode=gan, epsilon=0.0, lambda_reg=0.0001)\n",
      "[Cluster 4] buildings=[7, 20] | attack=poison(mode=gan, epsilon=0.0, lambda_reg=0.0001)\n",
      "[Cluster 5] buildings=[4, 1] | attack=poison(mode=gan, epsilon=0.0, lambda_reg=0.0001)\n",
      "[Cluster 6] buildings=[17, 6] | attack=poison(mode=gan, epsilon=0.0, lambda_reg=0.0001)\n",
      "[Cluster 7] buildings=[12, 19] | attack=poison(mode=gan, epsilon=0.0, lambda_reg=0.0001)\n",
      "[Cluster 8] buildings=[3, 5] | attack=poison(mode=gan, epsilon=0.0, lambda_reg=0.0001)\n",
      "[Cluster 9] buildings=[18, 2] | attack=poison(mode=gan, epsilon=0.0, lambda_reg=0.0001)\n",
      "[Cluster 10] buildings=[14, 9] | attack=poison(mode=gan, epsilon=0.0, lambda_reg=0.0001)\n",
      "Saved -> results3\\92PV_Poison_GanScale_0p0_Attack_all_results.csv\n",
      "------------------------------------------- Scale:  0.3\n",
      "[Cluster 1] buildings=[16, 10] | attack=poison(mode=gan, epsilon=0.3, lambda_reg=0.0001)\n",
      "[Cluster 2] buildings=[15, 8] | attack=poison(mode=gan, epsilon=0.3, lambda_reg=0.0001)\n",
      "[Cluster 3] buildings=[13, 11] | attack=poison(mode=gan, epsilon=0.3, lambda_reg=0.0001)\n",
      "[Cluster 4] buildings=[7, 20] | attack=poison(mode=gan, epsilon=0.3, lambda_reg=0.0001)\n",
      "[Cluster 5] buildings=[4, 1] | attack=poison(mode=gan, epsilon=0.3, lambda_reg=0.0001)\n",
      "[Cluster 6] buildings=[17, 6] | attack=poison(mode=gan, epsilon=0.3, lambda_reg=0.0001)\n",
      "[Cluster 7] buildings=[12, 19] | attack=poison(mode=gan, epsilon=0.3, lambda_reg=0.0001)\n",
      "[Cluster 8] buildings=[3, 5] | attack=poison(mode=gan, epsilon=0.3, lambda_reg=0.0001)\n",
      "[Cluster 9] buildings=[18, 2] | attack=poison(mode=gan, epsilon=0.3, lambda_reg=0.0001)\n",
      "[Cluster 10] buildings=[14, 9] | attack=poison(mode=gan, epsilon=0.3, lambda_reg=0.0001)\n",
      "Saved -> results3\\92PV_Poison_GanScale_0p3_Attack_all_results.csv\n",
      "------------------------------------------- Scale:  0.6\n",
      "[Cluster 1] buildings=[16, 10] | attack=poison(mode=gan, epsilon=0.6, lambda_reg=0.0001)\n",
      "[Cluster 2] buildings=[15, 8] | attack=poison(mode=gan, epsilon=0.6, lambda_reg=0.0001)\n",
      "[Cluster 3] buildings=[13, 11] | attack=poison(mode=gan, epsilon=0.6, lambda_reg=0.0001)\n",
      "[Cluster 4] buildings=[7, 20] | attack=poison(mode=gan, epsilon=0.6, lambda_reg=0.0001)\n",
      "[Cluster 5] buildings=[4, 1] | attack=poison(mode=gan, epsilon=0.6, lambda_reg=0.0001)\n",
      "[Cluster 6] buildings=[17, 6] | attack=poison(mode=gan, epsilon=0.6, lambda_reg=0.0001)\n",
      "[Cluster 7] buildings=[12, 19] | attack=poison(mode=gan, epsilon=0.6, lambda_reg=0.0001)\n",
      "[Cluster 8] buildings=[3, 5] | attack=poison(mode=gan, epsilon=0.6, lambda_reg=0.0001)\n",
      "[Cluster 9] buildings=[18, 2] | attack=poison(mode=gan, epsilon=0.6, lambda_reg=0.0001)\n",
      "[Cluster 10] buildings=[14, 9] | attack=poison(mode=gan, epsilon=0.6, lambda_reg=0.0001)\n",
      "Saved -> results3\\92PV_Poison_GanScale_0p6_Attack_all_results.csv\n",
      "------------------------------------------- Scale:  0.9\n",
      "[Cluster 1] buildings=[16, 10] | attack=poison(mode=gan, epsilon=0.9, lambda_reg=0.0001)\n",
      "[Cluster 2] buildings=[15, 8] | attack=poison(mode=gan, epsilon=0.9, lambda_reg=0.0001)\n",
      "[Cluster 3] buildings=[13, 11] | attack=poison(mode=gan, epsilon=0.9, lambda_reg=0.0001)\n",
      "[Cluster 4] buildings=[7, 20] | attack=poison(mode=gan, epsilon=0.9, lambda_reg=0.0001)\n",
      "[Cluster 5] buildings=[4, 1] | attack=poison(mode=gan, epsilon=0.9, lambda_reg=0.0001)\n",
      "[Cluster 6] buildings=[17, 6] | attack=poison(mode=gan, epsilon=0.9, lambda_reg=0.0001)\n",
      "[Cluster 7] buildings=[12, 19] | attack=poison(mode=gan, epsilon=0.9, lambda_reg=0.0001)\n",
      "[Cluster 8] buildings=[3, 5] | attack=poison(mode=gan, epsilon=0.9, lambda_reg=0.0001)\n",
      "[Cluster 9] buildings=[18, 2] | attack=poison(mode=gan, epsilon=0.9, lambda_reg=0.0001)\n",
      "[Cluster 10] buildings=[14, 9] | attack=poison(mode=gan, epsilon=0.9, lambda_reg=0.0001)\n",
      "Saved -> results3\\92PV_Poison_GanScale_0p9_Attack_all_results.csv\n"
     ]
    }
   ],
   "source": [
    "# GAN\n",
    "for scale in [0.0, 0.3, 0.6, 0.9]: \n",
    "    print(\"------------------------------------------- Scale: \", scale)\n",
    "    cfg = make_cfg(\n",
    "        columns=\"pv\", nr_buildings=20, cluster_size=2, results_dir=\"results3\",\n",
    "        experiment_name=f\"92PV_Poison_GanScale_{format(scale, '.1f').replace('.', 'p')}_Attack\",\n",
    "        attack_type=\"poison\",   # \"poison\" or \"backdoor\"\n",
    "        attack_mode=\"gan\",    # \"noise\" or \"gan\"\n",
    "        scale=scale, local_retraining=False, federated_aggregation=\"sum\", plot=False\n",
    "    )\n",
    "    combined_all, per_hour = main(cfg)"
   ]
  }
 ],
 "metadata": {
  "kernelspec": {
   "display_name": ".venv",
   "language": "python",
   "name": "python3"
  },
  "language_info": {
   "codemirror_mode": {
    "name": "ipython",
    "version": 3
   },
   "file_extension": ".py",
   "mimetype": "text/x-python",
   "name": "python",
   "nbconvert_exporter": "python",
   "pygments_lexer": "ipython3",
   "version": "3.10.0"
  }
 },
 "nbformat": 4,
 "nbformat_minor": 5
}
