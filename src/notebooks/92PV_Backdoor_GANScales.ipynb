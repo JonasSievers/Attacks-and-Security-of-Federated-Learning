{
 "cells": [
  {
   "cell_type": "code",
   "execution_count": 3,
   "id": "e5f0bc80",
   "metadata": {},
   "outputs": [],
   "source": [
    "import sys\n",
    "sys.path.insert(0, '..')\n",
    "from utils.New_Utils import main, make_cfg"
   ]
  },
  {
   "cell_type": "code",
   "execution_count": 4,
   "id": "8233ad9b",
   "metadata": {},
   "outputs": [
    {
     "name": "stdout",
     "output_type": "stream",
     "text": [
      "------------------------------------------- Scale:  0.0\n",
      "[Cluster 1] buildings=[6, 7] | attack=backdoor(mode=gan, start=None, steps=4, epsilon=0.0, lambda_reg=0.0001, activate_in_test=True)\n",
      "Unexpected exception formatting exception. Falling back to standard exception\n"
     ]
    },
    {
     "name": "stderr",
     "output_type": "stream",
     "text": [
      "Traceback (most recent call last):\n",
      "  File \"c:\\Users\\rs1044\\Documents\\GitHub\\Attacks-and-Security-of-Federated-Learning\\.venv\\lib\\site-packages\\IPython\\core\\interactiveshell.py\", line 3548, in run_code\n",
      "    exec(code_obj, self.user_global_ns, self.user_ns)\n",
      "  File \"C:\\Users\\rs1044\\AppData\\Local\\Temp\\ipykernel_45304\\3487898716.py\", line 10, in <module>\n",
      "    combined_all, per_hour = main(cfg)\n",
      "  File \"c:\\Users\\rs1044\\Documents\\GitHub\\Attacks-and-Security-of-Federated-Learning\\src\\notebooks\\..\\utils\\New_Utils.py\", line 634, in main\n",
      "    delta = train_perturbation_generator(\n",
      "  File \"c:\\Users\\rs1044\\Documents\\GitHub\\Attacks-and-Security-of-Federated-Learning\\src\\notebooks\\..\\utils\\New_Utils.py\", line 504, in train_perturbation_generator\n",
      "    grads = tape.gradient(loss, G.trainable_variables)\n",
      "  File \"c:\\Users\\rs1044\\Documents\\GitHub\\Attacks-and-Security-of-Federated-Learning\\.venv\\lib\\site-packages\\tensorflow\\python\\eager\\backprop.py\", line 1065, in gradient\n",
      "    flat_grad = imperative_grad.imperative_grad(\n",
      "  File \"c:\\Users\\rs1044\\Documents\\GitHub\\Attacks-and-Security-of-Federated-Learning\\.venv\\lib\\site-packages\\tensorflow\\python\\eager\\imperative_grad.py\", line 67, in imperative_grad\n",
      "    return pywrap_tfe.TFE_Py_TapeGradient(\n",
      "  File \"c:\\Users\\rs1044\\Documents\\GitHub\\Attacks-and-Security-of-Federated-Learning\\.venv\\lib\\site-packages\\tensorflow\\python\\eager\\backprop.py\", line 147, in _gradient_function\n",
      "    return grad_fn(mock_op, *out_grads)\n",
      "  File \"c:\\Users\\rs1044\\Documents\\GitHub\\Attacks-and-Security-of-Federated-Learning\\.venv\\lib\\site-packages\\tensorflow\\python\\ops\\nn_grad.py\", line 583, in _Conv2DGrad\n",
      "    gen_nn_ops.conv2d_backprop_input(\n",
      "  File \"c:\\Users\\rs1044\\Documents\\GitHub\\Attacks-and-Security-of-Federated-Learning\\.venv\\lib\\site-packages\\tensorflow\\python\\ops\\gen_nn_ops.py\", line 2032, in conv2d_backprop_input\n",
      "    _ops.raise_from_not_ok_status(e, name)\n",
      "  File \"c:\\Users\\rs1044\\Documents\\GitHub\\Attacks-and-Security-of-Federated-Learning\\.venv\\lib\\site-packages\\tensorflow\\python\\framework\\ops.py\", line 5888, in raise_from_not_ok_status\n",
      "    raise core._status_to_exception(e) from None  # pylint: disable=protected-access\n",
      "tensorflow.python.framework.errors_impl.ResourceExhaustedError: {{function_node __wrapped__Conv2DBackpropInput_device_/job:localhost/replica:0/task:0/device:CPU:0}} OOM when allocating tensor with shape[7505,24,32] and type float on /job:localhost/replica:0/task:0/device:CPU:0 by allocator cpu [Op:Conv2DBackpropInput] name: \n",
      "\n",
      "During handling of the above exception, another exception occurred:\n",
      "\n",
      "Traceback (most recent call last):\n",
      "  File \"c:\\Users\\rs1044\\Documents\\GitHub\\Attacks-and-Security-of-Federated-Learning\\.venv\\lib\\site-packages\\IPython\\core\\interactiveshell.py\", line 2142, in showtraceback\n",
      "    stb = self.InteractiveTB.structured_traceback(\n",
      "  File \"c:\\Users\\rs1044\\Documents\\GitHub\\Attacks-and-Security-of-Federated-Learning\\.venv\\lib\\site-packages\\IPython\\core\\ultratb.py\", line 1435, in structured_traceback\n",
      "    return FormattedTB.structured_traceback(\n",
      "  File \"c:\\Users\\rs1044\\Documents\\GitHub\\Attacks-and-Security-of-Federated-Learning\\.venv\\lib\\site-packages\\IPython\\core\\ultratb.py\", line 1326, in structured_traceback\n",
      "    return VerboseTB.structured_traceback(\n",
      "  File \"c:\\Users\\rs1044\\Documents\\GitHub\\Attacks-and-Security-of-Federated-Learning\\.venv\\lib\\site-packages\\IPython\\core\\ultratb.py\", line 1173, in structured_traceback\n",
      "    formatted_exception = self.format_exception_as_a_whole(etype, evalue, etb, number_of_lines_of_context,\n",
      "  File \"c:\\Users\\rs1044\\Documents\\GitHub\\Attacks-and-Security-of-Federated-Learning\\.venv\\lib\\site-packages\\IPython\\core\\ultratb.py\", line 1063, in format_exception_as_a_whole\n",
      "    self.get_records(etb, number_of_lines_of_context, tb_offset) if etb else []\n",
      "  File \"c:\\Users\\rs1044\\Documents\\GitHub\\Attacks-and-Security-of-Federated-Learning\\.venv\\lib\\site-packages\\IPython\\core\\ultratb.py\", line 1160, in get_records\n",
      "    res = list(stack_data.FrameInfo.stack_data(etb, options=options))[tb_offset:]\n",
      "  File \"c:\\Users\\rs1044\\Documents\\GitHub\\Attacks-and-Security-of-Federated-Learning\\.venv\\lib\\site-packages\\stack_data\\core.py\", line 597, in stack_data\n",
      "    yield from collapse_repeated(\n",
      "  File \"c:\\Users\\rs1044\\Documents\\GitHub\\Attacks-and-Security-of-Federated-Learning\\.venv\\lib\\site-packages\\stack_data\\utils.py\", line 83, in collapse_repeated\n",
      "    yield from map(mapper, original_group)\n",
      "  File \"c:\\Users\\rs1044\\Documents\\GitHub\\Attacks-and-Security-of-Federated-Learning\\.venv\\lib\\site-packages\\stack_data\\core.py\", line 587, in mapper\n",
      "    return cls(f, options)\n",
      "  File \"c:\\Users\\rs1044\\Documents\\GitHub\\Attacks-and-Security-of-Federated-Learning\\.venv\\lib\\site-packages\\stack_data\\core.py\", line 551, in __init__\n",
      "    self.executing = Source.executing(frame_or_tb)\n",
      "  File \"c:\\Users\\rs1044\\Documents\\GitHub\\Attacks-and-Security-of-Federated-Learning\\.venv\\lib\\site-packages\\executing\\executing.py\", line 264, in executing\n",
      "    source = cls.for_frame(frame)\n",
      "  File \"c:\\Users\\rs1044\\Documents\\GitHub\\Attacks-and-Security-of-Federated-Learning\\.venv\\lib\\site-packages\\executing\\executing.py\", line 183, in for_frame\n",
      "    return cls.for_filename(frame.f_code.co_filename, frame.f_globals or {}, use_cache)\n",
      "  File \"c:\\Users\\rs1044\\Documents\\GitHub\\Attacks-and-Security-of-Federated-Learning\\.venv\\lib\\site-packages\\executing\\executing.py\", line 212, in for_filename\n",
      "    return cls._for_filename_and_lines(filename, tuple(lines))\n",
      "  File \"c:\\Users\\rs1044\\Documents\\GitHub\\Attacks-and-Security-of-Federated-Learning\\.venv\\lib\\site-packages\\executing\\executing.py\", line 223, in _for_filename_and_lines\n",
      "    result = source_cache[(filename, lines)] = cls(filename, lines)\n",
      "  File \"c:\\Users\\rs1044\\Documents\\GitHub\\Attacks-and-Security-of-Federated-Learning\\.venv\\lib\\site-packages\\executing\\executing.py\", line 163, in __init__\n",
      "    self.tree = ast.parse(self.text, filename=filename)\n",
      "  File \"C:\\Users\\rs1044\\AppData\\Local\\Programs\\Python\\Python310\\lib\\ast.py\", line 50, in parse\n",
      "    return compile(source, filename, mode, flags,\n",
      "MemoryError\n"
     ]
    }
   ],
   "source": [
    "for scale in [0.0, 0.2, 0.4, 0.6, 0.8, 1.0]: \n",
    "    print(\"------------------------------------------- Scale: \", scale)\n",
    "    cfg = make_cfg(\n",
    "        columns=\"pv\", nr_buildings=10, cluster_size=2, \n",
    "        experiment_name=f\"92PV_Backdoor_GANScale_{format(scale, '.1f').replace('.', 'p')}\",\n",
    "        attack_type=\"backdoor\",   # \"poison\" or \"backdoor\"\n",
    "        attack_mode=\"gan\",    # \"noise\" or \"gan\"\n",
    "        scale=scale\n",
    "    )\n",
    "    combined_all, per_hour = main(cfg)"
   ]
  }
 ],
 "metadata": {
  "kernelspec": {
   "display_name": ".venv",
   "language": "python",
   "name": "python3"
  },
  "language_info": {
   "codemirror_mode": {
    "name": "ipython",
    "version": 3
   },
   "file_extension": ".py",
   "mimetype": "text/x-python",
   "name": "python",
   "nbconvert_exporter": "python",
   "pygments_lexer": "ipython3",
   "version": "3.10.5"
  }
 },
 "nbformat": 4,
 "nbformat_minor": 5
}
