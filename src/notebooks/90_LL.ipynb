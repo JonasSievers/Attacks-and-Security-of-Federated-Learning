{
 "cells": [
  {
   "cell_type": "code",
   "execution_count": 1,
   "id": "e5f0bc80",
   "metadata": {},
   "outputs": [],
   "source": [
    "import sys\n",
    "sys.path.insert(0, '..')\n",
    "from utils.New_Utils import main, make_cfg"
   ]
  },
  {
   "cell_type": "code",
   "execution_count": 2,
   "id": "aa1e4491",
   "metadata": {},
   "outputs": [
    {
     "name": "stdout",
     "output_type": "stream",
     "text": [
      "[Cluster 1] buildings=[16, 10] | attack=poison(mode=noise, distribution=uniform, scale=0.0)\n",
      "[Cluster 2] buildings=[15, 8] | attack=poison(mode=noise, distribution=uniform, scale=0.0)\n",
      "[Cluster 3] buildings=[13, 11] | attack=poison(mode=noise, distribution=uniform, scale=0.0)\n",
      "[Cluster 4] buildings=[7, 20] | attack=poison(mode=noise, distribution=uniform, scale=0.0)\n",
      "[Cluster 5] buildings=[4, 1] | attack=poison(mode=noise, distribution=uniform, scale=0.0)\n",
      "[Cluster 6] buildings=[17, 6] | attack=poison(mode=noise, distribution=uniform, scale=0.0)\n",
      "[Cluster 7] buildings=[12, 19] | attack=poison(mode=noise, distribution=uniform, scale=0.0)\n",
      "[Cluster 8] buildings=[3, 5] | attack=poison(mode=noise, distribution=uniform, scale=0.0)\n",
      "[Cluster 9] buildings=[18, 2] | attack=poison(mode=noise, distribution=uniform, scale=0.0)\n",
      "[Cluster 10] buildings=[14, 9] | attack=poison(mode=noise, distribution=uniform, scale=0.0)\n",
      "Saved -> results3\\90Load_LocalLearning_all_results.csv\n"
     ]
    }
   ],
   "source": [
    "# LL Load\n",
    "cfg = make_cfg(\n",
    "    columns=\"load\", nr_buildings=20, cluster_size=2, results_dir=\"results3\",\n",
    "    experiment_name=f\"90Load_LocalLearning\",\n",
    "    attack_type=\"poison\",   # \"poison\" or \"backdoor\"\n",
    "    attack_mode=\"noise\",    # \"noise\" or \"gan\"\n",
    "    scale=0.0, local_retraining=True, fed_rounds=0, federated_aggregation=\"sum\", plot=False\n",
    ")\n",
    "combined_all, per_hour = main(cfg)"
   ]
  },
  {
   "cell_type": "code",
   "execution_count": 3,
   "id": "95db76ea",
   "metadata": {},
   "outputs": [
    {
     "name": "stdout",
     "output_type": "stream",
     "text": [
      "[Cluster 1] buildings=[16, 10] | attack=poison(mode=noise, distribution=uniform, scale=0.0)\n",
      "[Cluster 2] buildings=[15, 8] | attack=poison(mode=noise, distribution=uniform, scale=0.0)\n",
      "[Cluster 3] buildings=[13, 11] | attack=poison(mode=noise, distribution=uniform, scale=0.0)\n",
      "[Cluster 4] buildings=[7, 20] | attack=poison(mode=noise, distribution=uniform, scale=0.0)\n",
      "[Cluster 5] buildings=[4, 1] | attack=poison(mode=noise, distribution=uniform, scale=0.0)\n",
      "[Cluster 6] buildings=[17, 6] | attack=poison(mode=noise, distribution=uniform, scale=0.0)\n",
      "[Cluster 7] buildings=[12, 19] | attack=poison(mode=noise, distribution=uniform, scale=0.0)\n",
      "[Cluster 8] buildings=[3, 5] | attack=poison(mode=noise, distribution=uniform, scale=0.0)\n",
      "[Cluster 9] buildings=[18, 2] | attack=poison(mode=noise, distribution=uniform, scale=0.0)\n",
      "[Cluster 10] buildings=[14, 9] | attack=poison(mode=noise, distribution=uniform, scale=0.0)\n",
      "Saved -> results3\\90PV_LocalLearning_all_results.csv\n"
     ]
    }
   ],
   "source": [
    "# LL PV\n",
    "cfg = make_cfg(\n",
    "    columns=\"pv\", nr_buildings=20, cluster_size=2, results_dir=\"results3\",\n",
    "    experiment_name=f\"90PV_LocalLearning\",\n",
    "    attack_type=\"poison\",   # \"poison\" or \"backdoor\"\n",
    "    attack_mode=\"noise\",    # \"noise\" or \"gan\"\n",
    "    scale=0.0, local_retraining=True, fed_rounds=0, federated_aggregation=\"sum\", plot=False\n",
    ")\n",
    "combined_all, per_hour = main(cfg)"
   ]
  },
  {
   "cell_type": "code",
   "execution_count": 4,
   "id": "6444d9ca",
   "metadata": {},
   "outputs": [
    {
     "name": "stdout",
     "output_type": "stream",
     "text": [
      "[Cluster 1] buildings=[16, 10] | attack=poison(mode=noise, distribution=uniform, scale=0.0)\n",
      "[Cluster 2] buildings=[15, 8] | attack=poison(mode=noise, distribution=uniform, scale=0.0)\n",
      "[Cluster 3] buildings=[13, 11] | attack=poison(mode=noise, distribution=uniform, scale=0.0)\n",
      "[Cluster 4] buildings=[7, 20] | attack=poison(mode=noise, distribution=uniform, scale=0.0)\n",
      "[Cluster 5] buildings=[4, 1] | attack=poison(mode=noise, distribution=uniform, scale=0.0)\n",
      "[Cluster 6] buildings=[17, 6] | attack=poison(mode=noise, distribution=uniform, scale=0.0)\n",
      "[Cluster 7] buildings=[12, 19] | attack=poison(mode=noise, distribution=uniform, scale=0.0)\n",
      "[Cluster 8] buildings=[3, 5] | attack=poison(mode=noise, distribution=uniform, scale=0.0)\n",
      "[Cluster 9] buildings=[18, 2] | attack=poison(mode=noise, distribution=uniform, scale=0.0)\n",
      "[Cluster 10] buildings=[14, 9] | attack=poison(mode=noise, distribution=uniform, scale=0.0)\n",
      "Saved -> results3\\90Prosumption_LocalLearning_all_results.csv\n"
     ]
    }
   ],
   "source": [
    "# LL Load\n",
    "cfg = make_cfg(\n",
    "    columns=\"prosumption\", nr_buildings=20, cluster_size=2, results_dir=\"results3\",\n",
    "    experiment_name=f\"90Prosumption_LocalLearning\",\n",
    "    attack_type=\"poison\",   # \"poison\" or \"backdoor\"\n",
    "    attack_mode=\"noise\",    # \"noise\" or \"gan\"\n",
    "    scale=0.0, local_retraining=True, fed_rounds=0, federated_aggregation=\"sum\", plot=False\n",
    ")\n",
    "combined_all, per_hour = main(cfg)"
   ]
  }
 ],
 "metadata": {
  "kernelspec": {
   "display_name": ".venv",
   "language": "python",
   "name": "python3"
  },
  "language_info": {
   "codemirror_mode": {
    "name": "ipython",
    "version": 3
   },
   "file_extension": ".py",
   "mimetype": "text/x-python",
   "name": "python",
   "nbconvert_exporter": "python",
   "pygments_lexer": "ipython3",
   "version": "3.12.3"
  }
 },
 "nbformat": 4,
 "nbformat_minor": 5
}
